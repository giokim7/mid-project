{
 "cells": [
  {
   "cell_type": "code",
   "execution_count": 5,
   "id": "c0934231",
   "metadata": {},
   "outputs": [],
   "source": [
    "import pandas as pd\n",
    "import numpy as np\n",
    "import matplotlib.pyplot as plt\n",
    "import seaborn as sns\n",
    "import statsmodels.api as sm"
   ]
  },
  {
   "cell_type": "code",
   "execution_count": 6,
   "id": "3b949afe",
   "metadata": {},
   "outputs": [],
   "source": [
    "df = pd.read_csv('data_cleaned.csv')"
   ]
  },
  {
   "cell_type": "code",
   "execution_count": 7,
   "id": "110f51d2",
   "metadata": {},
   "outputs": [
    {
     "data": {
      "text/html": [
       "<div>\n",
       "<style scoped>\n",
       "    .dataframe tbody tr th:only-of-type {\n",
       "        vertical-align: middle;\n",
       "    }\n",
       "\n",
       "    .dataframe tbody tr th {\n",
       "        vertical-align: top;\n",
       "    }\n",
       "\n",
       "    .dataframe thead th {\n",
       "        text-align: right;\n",
       "    }\n",
       "</style>\n",
       "<table border=\"1\" class=\"dataframe\">\n",
       "  <thead>\n",
       "    <tr style=\"text-align: right;\">\n",
       "      <th></th>\n",
       "      <th>Country</th>\n",
       "      <th>Theft</th>\n",
       "      <th>Fraud</th>\n",
       "      <th>Drugs</th>\n",
       "      <th>Burglary</th>\n",
       "      <th>Serious assault</th>\n",
       "      <th>Sexual violence</th>\n",
       "      <th>Robbery</th>\n",
       "      <th>Acts against computer systems</th>\n",
       "      <th>Corruption</th>\n",
       "      <th>Sexual exploitation</th>\n",
       "      <th>Money laundering</th>\n",
       "      <th>Attempted intentional homicide</th>\n",
       "      <th>Participation in an organized criminal group</th>\n",
       "      <th>Intentional homicide</th>\n",
       "      <th>Kidnapping</th>\n",
       "      <th>Total Crimes</th>\n",
       "      <th>Unemployment Rate</th>\n",
       "      <th>GDP</th>\n",
       "    </tr>\n",
       "  </thead>\n",
       "  <tbody>\n",
       "    <tr>\n",
       "      <th>0</th>\n",
       "      <td>Sweden</td>\n",
       "      <td>2784.26</td>\n",
       "      <td>2701.06</td>\n",
       "      <td>1158.39</td>\n",
       "      <td>703.48</td>\n",
       "      <td>46.37</td>\n",
       "      <td>217.72</td>\n",
       "      <td>70.34</td>\n",
       "      <td>111.43</td>\n",
       "      <td>205.03</td>\n",
       "      <td>59.75</td>\n",
       "      <td>90.08</td>\n",
       "      <td>9.57</td>\n",
       "      <td>0.00</td>\n",
       "      <td>1.09</td>\n",
       "      <td>0.00</td>\n",
       "      <td>8158.57</td>\n",
       "      <td>6.5</td>\n",
       "      <td>6.368562e+11</td>\n",
       "    </tr>\n",
       "    <tr>\n",
       "      <th>1</th>\n",
       "      <td>Denmark</td>\n",
       "      <td>2134.02</td>\n",
       "      <td>925.06</td>\n",
       "      <td>490.85</td>\n",
       "      <td>521.11</td>\n",
       "      <td>32.26</td>\n",
       "      <td>108.61</td>\n",
       "      <td>22.04</td>\n",
       "      <td>0.00</td>\n",
       "      <td>81.80</td>\n",
       "      <td>36.39</td>\n",
       "      <td>20.33</td>\n",
       "      <td>2.28</td>\n",
       "      <td>0.00</td>\n",
       "      <td>0.72</td>\n",
       "      <td>0.00</td>\n",
       "      <td>4375.47</td>\n",
       "      <td>3.6</td>\n",
       "      <td>3.983033e+11</td>\n",
       "    </tr>\n",
       "    <tr>\n",
       "      <th>2</th>\n",
       "      <td>Finland</td>\n",
       "      <td>2242.66</td>\n",
       "      <td>853.02</td>\n",
       "      <td>505.80</td>\n",
       "      <td>114.66</td>\n",
       "      <td>30.05</td>\n",
       "      <td>90.64</td>\n",
       "      <td>34.19</td>\n",
       "      <td>35.64</td>\n",
       "      <td>66.86</td>\n",
       "      <td>13.82</td>\n",
       "      <td>10.75</td>\n",
       "      <td>6.76</td>\n",
       "      <td>0.05</td>\n",
       "      <td>1.70</td>\n",
       "      <td>0.04</td>\n",
       "      <td>4006.64</td>\n",
       "      <td>5.2</td>\n",
       "      <td>2.963876e+11</td>\n",
       "    </tr>\n",
       "    <tr>\n",
       "      <th>3</th>\n",
       "      <td>Belgium</td>\n",
       "      <td>1428.70</td>\n",
       "      <td>811.55</td>\n",
       "      <td>480.49</td>\n",
       "      <td>392.89</td>\n",
       "      <td>502.93</td>\n",
       "      <td>84.37</td>\n",
       "      <td>99.05</td>\n",
       "      <td>73.64</td>\n",
       "      <td>40.73</td>\n",
       "      <td>24.35</td>\n",
       "      <td>47.94</td>\n",
       "      <td>8.94</td>\n",
       "      <td>4.23</td>\n",
       "      <td>1.26</td>\n",
       "      <td>0.00</td>\n",
       "      <td>4001.07</td>\n",
       "      <td>3.8</td>\n",
       "      <td>5.943520e+11</td>\n",
       "    </tr>\n",
       "    <tr>\n",
       "      <th>4</th>\n",
       "      <td>France</td>\n",
       "      <td>1786.35</td>\n",
       "      <td>345.47</td>\n",
       "      <td>426.74</td>\n",
       "      <td>398.23</td>\n",
       "      <td>522.86</td>\n",
       "      <td>109.71</td>\n",
       "      <td>82.96</td>\n",
       "      <td>23.70</td>\n",
       "      <td>4.04</td>\n",
       "      <td>18.38</td>\n",
       "      <td>2.82</td>\n",
       "      <td>5.03</td>\n",
       "      <td>3.21</td>\n",
       "      <td>1.08</td>\n",
       "      <td>0.00</td>\n",
       "      <td>3730.58</td>\n",
       "      <td>4.9</td>\n",
       "      <td>2.957880e+12</td>\n",
       "    </tr>\n",
       "  </tbody>\n",
       "</table>\n",
       "</div>"
      ],
      "text/plain": [
       "   Country    Theft    Fraud    Drugs  Burglary  Serious assault  \\\n",
       "0   Sweden  2784.26  2701.06  1158.39    703.48            46.37   \n",
       "1  Denmark  2134.02   925.06   490.85    521.11            32.26   \n",
       "2  Finland  2242.66   853.02   505.80    114.66            30.05   \n",
       "3  Belgium  1428.70   811.55   480.49    392.89           502.93   \n",
       "4   France  1786.35   345.47   426.74    398.23           522.86   \n",
       "\n",
       "   Sexual violence  Robbery  Acts against computer systems  Corruption  \\\n",
       "0           217.72    70.34                         111.43      205.03   \n",
       "1           108.61    22.04                           0.00       81.80   \n",
       "2            90.64    34.19                          35.64       66.86   \n",
       "3            84.37    99.05                          73.64       40.73   \n",
       "4           109.71    82.96                          23.70        4.04   \n",
       "\n",
       "   Sexual exploitation  Money laundering  Attempted intentional homicide  \\\n",
       "0                59.75             90.08                            9.57   \n",
       "1                36.39             20.33                            2.28   \n",
       "2                13.82             10.75                            6.76   \n",
       "3                24.35             47.94                            8.94   \n",
       "4                18.38              2.82                            5.03   \n",
       "\n",
       "   Participation in an organized criminal group  Intentional homicide  \\\n",
       "0                                          0.00                  1.09   \n",
       "1                                          0.00                  0.72   \n",
       "2                                          0.05                  1.70   \n",
       "3                                          4.23                  1.26   \n",
       "4                                          3.21                  1.08   \n",
       "\n",
       "   Kidnapping  Total Crimes  Unemployment Rate           GDP  \n",
       "0        0.00       8158.57                6.5  6.368562e+11  \n",
       "1        0.00       4375.47                3.6  3.983033e+11  \n",
       "2        0.04       4006.64                5.2  2.963876e+11  \n",
       "3        0.00       4001.07                3.8  5.943520e+11  \n",
       "4        0.00       3730.58                4.9  2.957880e+12  "
      ]
     },
     "execution_count": 7,
     "metadata": {},
     "output_type": "execute_result"
    }
   ],
   "source": [
    "df.head()"
   ]
  },
  {
   "cell_type": "code",
   "execution_count": 8,
   "id": "8328e30d",
   "metadata": {},
   "outputs": [
    {
     "name": "stdout",
     "output_type": "stream",
     "text": [
      "       Total Crimes  Unemployment Rate\n",
      "count     26.000000          26.000000\n",
      "mean    2015.705769           4.319231\n",
      "std     1749.893268           1.816154\n",
      "min      351.700000           1.900000\n",
      "25%      849.605000           3.125000\n",
      "50%     1386.845000           4.250000\n",
      "75%     2919.275000           5.075000\n",
      "max     8158.570000           9.600000\n"
     ]
    }
   ],
   "source": [
    "# Summary \n",
    "summary_stats = df[['Total Crimes', 'Unemployment Rate']].describe()\n",
    "\n",
    "# Print summary statistics\n",
    "print(summary_stats)"
   ]
  },
  {
   "cell_type": "code",
   "execution_count": 9,
   "id": "a32ec191",
   "metadata": {
    "scrolled": true
   },
   "outputs": [
    {
     "data": {
      "image/png": "[encoded data removed]",
      "text/plain": [
       "<Figure size 640x480 with 2 Axes>"
      ]
     },
     "metadata": {},
     "output_type": "display_data"
    }
   ],
   "source": [
    "# histogram\n",
    "df[['GDP', 'Unemployment Rate']].hist(bins=10)\n",
    "plt.tight_layout()\n",
    "plt.show()\n",
    "\n"
   ]
  },
  {
   "cell_type": "code",
   "execution_count": 12,
   "id": "94b6b184",
   "metadata": {},
   "outputs": [
    {
     "data": {
      "image/png": "[encoded data removed]",
      "text/plain": [
       "<Figure size 640x480 with 1 Axes>"
      ]
     },
     "metadata": {},
     "output_type": "display_data"
    }
   ],
   "source": [
    "#scatterplot\n",
    "df.plot.scatter(x='GDP', y='Unemployment Rate')\n",
    "plt.xlabel('Unemployment')\n",
    "plt.ylabel('Crime Rate')\n",
    "plt.title('Unemployment vs Crime Rate')\n",
    "plt.show()"
   ]
  },
  {
   "cell_type": "code",
   "execution_count": 14,
   "id": "c1f8f57a",
   "metadata": {},
   "outputs": [
    {
     "data": {
      "image/png": "[encoded data removed]",
      "text/plain": [
       "<Figure size 640x480 with 2 Axes>"
      ]
     },
     "metadata": {},
     "output_type": "display_data"
    }
   ],
   "source": [
    "# correlation matrix\n",
    "correlation_matrix = df[['Total Crimes', 'Unemployment Rate']].corr()\n",
    "sns.heatmap(correlation_matrix, annot=True, cmap='coolwarm')\n",
    "plt.title('Correlation Matrix')\n",
    "plt.show()"
   ]
  },
  {
   "cell_type": "code",
   "execution_count": 15,
   "id": "587e809b",
   "metadata": {},
   "outputs": [],
   "source": [
    "#regression model\n",
    "# Define the dependent variable and independent variables\n",
    "y = df['Total Crimes']\n",
    "X = df[['Unemployment Rate']]\n",
    "\n",
    "# Add a constant column to the independent variables\n",
    "X = sm.add_constant(X)\n",
    "\n",
    "# Create the regression model\n",
    "model = sm.OLS(y, X)\n",
    "\n",
    "# Fit the regression model\n",
    "results = model.fit()\n",
    "\n",
    "# Get the regression coefficients, p-values, standard errors, and other relevant statistics\n",
    "coefficients = results.params\n",
    "p_values = results.pvalues\n",
    "standard_errors = results.bse\n",
    "\n",
    "# Assess the goodness-of-fit of the regression model\n",
    "r_squared = results.rsquared\n",
    "adjusted_r_squared = results.rsquared_adj\n",
    "f_statistic = results.fvalue"
   ]
  },
  {
   "cell_type": "code",
   "execution_count": 16,
   "id": "135d47f1",
   "metadata": {},
   "outputs": [
    {
     "name": "stdout",
     "output_type": "stream",
     "text": [
      "Regression Coefficients:\n",
      "const                1398.665879\n",
      "Unemployment Rate     142.858746\n",
      "dtype: float64\n",
      "P-values:\n",
      "const                0.136844\n",
      "Unemployment Rate    0.469772\n",
      "dtype: float64\n",
      "Standard Errors:\n",
      "const                908.712396\n",
      "Unemployment Rate    194.503028\n",
      "dtype: float64\n",
      "R-squared: 0.021983452136031256\n",
      "Adjusted R-squared: -0.01876723735830077\n",
      "F-statistic: 0.5394620903062002\n"
     ]
    }
   ],
   "source": [
    "print(\"Regression Coefficients:\")\n",
    "print(coefficients)\n",
    "print(\"P-values:\")\n",
    "print(p_values)\n",
    "print(\"Standard Errors:\")\n",
    "print(standard_errors)\n",
    "print(\"R-squared:\", r_squared)\n",
    "print(\"Adjusted R-squared:\", adjusted_r_squared)\n",
    "print(\"F-statistic:\", f_statistic)"
   ]
  },
  {
   "cell_type": "code",
   "execution_count": null,
   "id": "3c33a45f",
   "metadata": {},
   "outputs": [],
   "source": [
    "    Regression Coefficients: The coefficient for the Unemployment Rate is 142.858746. This indicates that, on average, a one-unit increase in the Unemployment Rate is associated with an increase of approximately 142.86 in the crime rate. However, it's important to note that this coefficient is not statistically significant at the chosen significance level (p-value = 0.469772).\n",
    "\n",
    "    P-value: The p-value for the coefficient of the Unemployment Rate is 0.469772, which is higher than the typical significance level of 0.05. This suggests that there is not strong statistical evidence to support a significant relationship between the Unemployment Rate and the crime rate.\n",
    "\n",
    "    R-squared: The R-squared value is 0.021983452136031256, indicating that approximately 2.20% of the variance in the crime rate is explained by the independent variables included in the model. This means that other factors not included in the model may have a more significant influence on the crime rate.\n",
    "\n",
    "    Adjusted R-squared: The adjusted R-squared value is -0.01876723735830077, which is lower than the R-squared value. This suggests that the inclusion of the Unemployment Rate in the model may not contribute much to the explanation of the crime rate.\n",
    "\n",
    "    F-statistic: The F-statistic is 0.5394620903062002, which tests the overall significance of the regression model. In this case, the F-statistic is relatively low, suggesting that the overall model is not statistically significant.\n",
    "\n",
    "Based on these results, there is weak evidence to suggest a significant relationship between the Unemployment Rate and the crime rate. The coefficient for the Unemployment Rate is not statistically significant, and the inclusion of the Unemployment Rate in the model does not contribute much to the explanation of the crime rate. Other factors or variables not considered in this model may have a stronger influence on the crime rate.\n",
    "\n",
    "It's important to interpret these results cautiously and consider other factors that may affect the relationship between the Unemployment Rate and the crime rate. Additional analyses and considerations, such as control variables or exploring different functional forms of the relationship, may provide further insights."
   ]
  }
 ],
 "metadata": {
  "kernelspec": {
   "display_name": "Python 3 (ipykernel)",
   "language": "python",
   "name": "python3"
  },
  "language_info": {
   "codemirror_mode": {
    "name": "ipython",
    "version": 3
   },
   "file_extension": ".py",
   "mimetype": "text/x-python",
   "name": "python",
   "nbconvert_exporter": "python",
   "pygments_lexer": "ipython3",
   "version": "3.9.13"
  }
 },
 "nbformat": 4,
 "nbformat_minor": 5
}
