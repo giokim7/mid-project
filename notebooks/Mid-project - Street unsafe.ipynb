{
 "cells": [
  {
   "cell_type": "code",
   "execution_count": 1,
   "id": "3f20c88c",
   "metadata": {},
   "outputs": [
    {
     "name": "stderr",
     "output_type": "stream",
     "text": [
      "C:\\Users\\Utente\\anaconda3\\lib\\site-packages\\scipy\\__init__.py:155: UserWarning: A NumPy version >=1.18.5 and <1.25.0 is required for this version of SciPy (detected version 1.25.0\n",
      "  warnings.warn(f\"A NumPy version >={np_minversion} and <{np_maxversion}\"\n"
     ]
    }
   ],
   "source": [
    "import pandas as pd\n",
    "import numpy as np\n",
    "import matplotlib.pyplot as plt\n",
    "import seaborn as sns\n",
    "import statsmodels.api as sm"
   ]
  },
  {
   "cell_type": "code",
   "execution_count": 2,
   "id": "f83962e9",
   "metadata": {},
   "outputs": [],
   "source": [
    "df = pd.read_csv('data_cleaned.csv')"
   ]
  },
  {
   "cell_type": "code",
   "execution_count": 6,
   "id": "6fcfb2b2",
   "metadata": {},
   "outputs": [
    {
     "name": "stdout",
     "output_type": "stream",
     "text": [
      "      Country    Theft    Fraud    Drugs  Burglary  Serious assault  \\\n",
      "0      Sweden  2784.26  2701.06  1158.39    703.48            46.37   \n",
      "4      France  1786.35   345.47   426.74    398.23           522.86   \n",
      "1     Denmark  2134.02   925.06   490.85    521.11            32.26   \n",
      "5  Luxembourg  1717.58   235.58   594.43    489.34            86.34   \n",
      "2     Finland  2242.66   853.02   505.80    114.66            30.05   \n",
      "\n",
      "   Sexual violence  Robbery  Acts against computer systems  Corruption  \\\n",
      "0           217.72    70.34                         111.43      205.03   \n",
      "4           109.71    82.96                          23.70        4.04   \n",
      "1           108.61    22.04                           0.00       81.80   \n",
      "5            54.83    93.74                           0.00        0.63   \n",
      "2            90.64    34.19                          35.64       66.86   \n",
      "\n",
      "   Sexual exploitation  Money laundering  Attempted intentional homicide  \\\n",
      "0                59.75             90.08                            9.57   \n",
      "4                18.38              2.82                            5.03   \n",
      "1                36.39             20.33                            2.28   \n",
      "5                 0.00              0.00                           10.87   \n",
      "2                13.82             10.75                            6.76   \n",
      "\n",
      "   Participation in an organized criminal group  Intentional homicide  \\\n",
      "0                                          0.00                  1.09   \n",
      "4                                          3.21                  1.08   \n",
      "1                                          0.00                  0.72   \n",
      "5                                          9.61                  0.47   \n",
      "2                                          0.05                  1.70   \n",
      "\n",
      "   Kidnapping  Total Crimes  Unemployment Rate           GDP  \\\n",
      "0        0.00       8158.57                6.5  6.368562e+11   \n",
      "4        0.00       3730.58                4.9  2.957880e+12   \n",
      "1        0.00       4375.47                3.6  3.983033e+11   \n",
      "5        5.83       3299.25                3.5  8.550624e+10   \n",
      "2        0.04       4006.64                5.2  2.963876e+11   \n",
      "\n",
      "   Total Street Crimes  \n",
      "0              4980.56  \n",
      "4              3326.85  \n",
      "1              3308.89  \n",
      "5              3036.26  \n",
      "2              3018.00  \n"
     ]
    }
   ],
   "source": [
    "street_crimes = ['Theft', 'Drugs', 'Burglary', 'Sexual violence', 'Robbery', 'Serious assault' ]\n",
    "\n",
    "# Sum the selected columns for each country\n",
    "df['Total Street Crimes'] = df[street_crimes].sum(axis=1)\n",
    "\n",
    "# Sort the DataFrame in descending order based on the total street crimes\n",
    "df_sorted = df.sort_values(by='Total Street Crimes', ascending=False)\n",
    "\n",
    "# Print the resulting DataFrame or select the top countries with the highest street crime counts\n",
    "top_5_countries = df_sorted.head(5)\n",
    "\n",
    "print(top_5_countries)"
   ]
  },
  {
   "cell_type": "code",
   "execution_count": null,
   "id": "5c83e4dd",
   "metadata": {},
   "outputs": [],
   "source": []
  }
 ],
 "metadata": {
  "kernelspec": {
   "display_name": "Python 3 (ipykernel)",
   "language": "python",
   "name": "python3"
  },
  "language_info": {
   "codemirror_mode": {
    "name": "ipython",
    "version": 3
   },
   "file_extension": ".py",
   "mimetype": "text/x-python",
   "name": "python",
   "nbconvert_exporter": "python",
   "pygments_lexer": "ipython3",
   "version": "3.9.13"
  }
 },
 "nbformat": 4,
 "nbformat_minor": 5
}
