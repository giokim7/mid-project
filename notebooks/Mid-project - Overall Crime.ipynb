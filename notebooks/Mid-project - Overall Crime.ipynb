{
 "cells": [
  {
   "cell_type": "code",
   "execution_count": 2,
   "id": "82058767",
   "metadata": {},
   "outputs": [
    {
     "name": "stderr",
     "output_type": "stream",
     "text": [
      "C:\\Users\\Utente\\anaconda3\\lib\\site-packages\\scipy\\__init__.py:155: UserWarning: A NumPy version >=1.18.5 and <1.25.0 is required for this version of SciPy (detected version 1.25.0\n",
      "  warnings.warn(f\"A NumPy version >={np_minversion} and <{np_maxversion}\"\n"
     ]
    }
   ],
   "source": [
    "import pandas as pd\n",
    "import numpy as np\n",
    "import matplotlib.pyplot as plt\n",
    "import seaborn as sns\n",
    "import statsmodels.api as sm"
   ]
  },
  {
   "cell_type": "code",
   "execution_count": 3,
   "id": "fe790d10",
   "metadata": {},
   "outputs": [],
   "source": [
    "df = pd.read_csv('data_cleaned.csv')"
   ]
  },
  {
   "cell_type": "code",
   "execution_count": 5,
   "id": "53ba7c12",
   "metadata": {},
   "outputs": [
    {
     "name": "stdout",
     "output_type": "stream",
     "text": [
      "   Country    Theft    Fraud    Drugs  Burglary  Serious assault  \\\n",
      "0   Sweden  2784.26  2701.06  1158.39    703.48            46.37   \n",
      "1  Denmark  2134.02   925.06   490.85    521.11            32.26   \n",
      "2  Finland  2242.66   853.02   505.80    114.66            30.05   \n",
      "3  Belgium  1428.70   811.55   480.49    392.89           502.93   \n",
      "4   France  1786.35   345.47   426.74    398.23           522.86   \n",
      "\n",
      "   Sexual violence  Robbery  Acts against computer systems  Corruption  \\\n",
      "0           217.72    70.34                         111.43      205.03   \n",
      "1           108.61    22.04                           0.00       81.80   \n",
      "2            90.64    34.19                          35.64       66.86   \n",
      "3            84.37    99.05                          73.64       40.73   \n",
      "4           109.71    82.96                          23.70        4.04   \n",
      "\n",
      "   Sexual exploitation  Money laundering  Attempted intentional homicide  \\\n",
      "0                59.75             90.08                            9.57   \n",
      "1                36.39             20.33                            2.28   \n",
      "2                13.82             10.75                            6.76   \n",
      "3                24.35             47.94                            8.94   \n",
      "4                18.38              2.82                            5.03   \n",
      "\n",
      "   Participation in an organized criminal group  Intentional homicide  \\\n",
      "0                                          0.00                  1.09   \n",
      "1                                          0.00                  0.72   \n",
      "2                                          0.05                  1.70   \n",
      "3                                          4.23                  1.26   \n",
      "4                                          3.21                  1.08   \n",
      "\n",
      "   Kidnapping  Total Crimes  Unemployment Rate           GDP  \n",
      "0        0.00       8158.57                6.5  6.368562e+11  \n",
      "1        0.00       4375.47                3.6  3.983033e+11  \n",
      "2        0.04       4006.64                5.2  2.963876e+11  \n",
      "3        0.00       4001.07                3.8  5.943520e+11  \n",
      "4        0.00       3730.58                4.9  2.957880e+12  \n"
     ]
    }
   ],
   "source": [
    "# Sort the DataFrame in descending order based on the total street crimes\n",
    "df_sorted = df.sort_values(by='Total Crimes', ascending=False)\n",
    "\n",
    "# Print the resulting DataFrame or select the top countries with the highest street crime counts\n",
    "top_5_countries = df_sorted.head(5)\n",
    "\n",
    "print(top_5_countries)"
   ]
  },
  {
   "cell_type": "code",
   "execution_count": null,
   "id": "735981f0",
   "metadata": {},
   "outputs": [],
   "source": []
  }
 ],
 "metadata": {
  "kernelspec": {
   "display_name": "Python 3 (ipykernel)",
   "language": "python",
   "name": "python3"
  },
  "language_info": {
   "codemirror_mode": {
    "name": "ipython",
    "version": 3
   },
   "file_extension": ".py",
   "mimetype": "text/x-python",
   "name": "python",
   "nbconvert_exporter": "python",
   "pygments_lexer": "ipython3",
   "version": "3.9.13"
  }
 },
 "nbformat": 4,
 "nbformat_minor": 5
}
