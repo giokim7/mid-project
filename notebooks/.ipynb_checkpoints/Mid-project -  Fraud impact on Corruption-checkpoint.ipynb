{
 "cells": [
  {
   "cell_type": "code",
   "execution_count": 3,
   "id": "c0934231",
   "metadata": {},
   "outputs": [],
   "source": [
    "import pandas as pd\n",
    "import numpy as np\n",
    "import matplotlib.pyplot as plt\n",
    "import seaborn as sns\n",
    "import statsmodels.api as sm"
   ]
  },
  {
   "cell_type": "code",
   "execution_count": 4,
   "id": "3b949afe",
   "metadata": {},
   "outputs": [],
   "source": [
    "df = pd.read_csv('..\\data\\cleaned\\data_cleaned.csv')"
   ]
  },
  {
   "cell_type": "code",
   "execution_count": 5,
   "id": "110f51d2",
   "metadata": {},
   "outputs": [
    {
     "data": {
      "text/html": [
       "<div>\n",
       "<style scoped>\n",
       "    .dataframe tbody tr th:only-of-type {\n",
       "        vertical-align: middle;\n",
       "    }\n",
       "\n",
       "    .dataframe tbody tr th {\n",
       "        vertical-align: top;\n",
       "    }\n",
       "\n",
       "    .dataframe thead th {\n",
       "        text-align: right;\n",
       "    }\n",
       "</style>\n",
       "<table border=\"1\" class=\"dataframe\">\n",
       "  <thead>\n",
       "    <tr style=\"text-align: right;\">\n",
       "      <th></th>\n",
       "      <th>Country</th>\n",
       "      <th>Theft</th>\n",
       "      <th>Fraud</th>\n",
       "      <th>Drugs</th>\n",
       "      <th>Burglary</th>\n",
       "      <th>Serious assault</th>\n",
       "      <th>Sexual violence</th>\n",
       "      <th>Robbery</th>\n",
       "      <th>Acts against computer systems</th>\n",
       "      <th>Corruption</th>\n",
       "      <th>Sexual exploitation</th>\n",
       "      <th>Money laundering</th>\n",
       "      <th>Attempted intentional homicide</th>\n",
       "      <th>Participation in an organized criminal group</th>\n",
       "      <th>Intentional homicide</th>\n",
       "      <th>Kidnapping</th>\n",
       "      <th>Total Crimes</th>\n",
       "      <th>Unemployment Rate</th>\n",
       "      <th>GDP</th>\n",
       "    </tr>\n",
       "  </thead>\n",
       "  <tbody>\n",
       "    <tr>\n",
       "      <th>0</th>\n",
       "      <td>Sweden</td>\n",
       "      <td>2784.26</td>\n",
       "      <td>2701.06</td>\n",
       "      <td>1158.39</td>\n",
       "      <td>703.48</td>\n",
       "      <td>46.37</td>\n",
       "      <td>217.72</td>\n",
       "      <td>70.34</td>\n",
       "      <td>111.43</td>\n",
       "      <td>205.03</td>\n",
       "      <td>59.75</td>\n",
       "      <td>90.08</td>\n",
       "      <td>9.57</td>\n",
       "      <td>0.00</td>\n",
       "      <td>1.09</td>\n",
       "      <td>0.00</td>\n",
       "      <td>8158.57</td>\n",
       "      <td>6.5</td>\n",
       "      <td>6.368562e+11</td>\n",
       "    </tr>\n",
       "    <tr>\n",
       "      <th>1</th>\n",
       "      <td>Denmark</td>\n",
       "      <td>2134.02</td>\n",
       "      <td>925.06</td>\n",
       "      <td>490.85</td>\n",
       "      <td>521.11</td>\n",
       "      <td>32.26</td>\n",
       "      <td>108.61</td>\n",
       "      <td>22.04</td>\n",
       "      <td>0.00</td>\n",
       "      <td>81.80</td>\n",
       "      <td>36.39</td>\n",
       "      <td>20.33</td>\n",
       "      <td>2.28</td>\n",
       "      <td>0.00</td>\n",
       "      <td>0.72</td>\n",
       "      <td>0.00</td>\n",
       "      <td>4375.47</td>\n",
       "      <td>3.6</td>\n",
       "      <td>3.983033e+11</td>\n",
       "    </tr>\n",
       "    <tr>\n",
       "      <th>2</th>\n",
       "      <td>Finland</td>\n",
       "      <td>2242.66</td>\n",
       "      <td>853.02</td>\n",
       "      <td>505.80</td>\n",
       "      <td>114.66</td>\n",
       "      <td>30.05</td>\n",
       "      <td>90.64</td>\n",
       "      <td>34.19</td>\n",
       "      <td>35.64</td>\n",
       "      <td>66.86</td>\n",
       "      <td>13.82</td>\n",
       "      <td>10.75</td>\n",
       "      <td>6.76</td>\n",
       "      <td>0.05</td>\n",
       "      <td>1.70</td>\n",
       "      <td>0.04</td>\n",
       "      <td>4006.64</td>\n",
       "      <td>5.2</td>\n",
       "      <td>2.963876e+11</td>\n",
       "    </tr>\n",
       "    <tr>\n",
       "      <th>3</th>\n",
       "      <td>Belgium</td>\n",
       "      <td>1428.70</td>\n",
       "      <td>811.55</td>\n",
       "      <td>480.49</td>\n",
       "      <td>392.89</td>\n",
       "      <td>502.93</td>\n",
       "      <td>84.37</td>\n",
       "      <td>99.05</td>\n",
       "      <td>73.64</td>\n",
       "      <td>40.73</td>\n",
       "      <td>24.35</td>\n",
       "      <td>47.94</td>\n",
       "      <td>8.94</td>\n",
       "      <td>4.23</td>\n",
       "      <td>1.26</td>\n",
       "      <td>0.00</td>\n",
       "      <td>4001.07</td>\n",
       "      <td>3.8</td>\n",
       "      <td>5.943520e+11</td>\n",
       "    </tr>\n",
       "    <tr>\n",
       "      <th>4</th>\n",
       "      <td>France</td>\n",
       "      <td>1786.35</td>\n",
       "      <td>345.47</td>\n",
       "      <td>426.74</td>\n",
       "      <td>398.23</td>\n",
       "      <td>522.86</td>\n",
       "      <td>109.71</td>\n",
       "      <td>82.96</td>\n",
       "      <td>23.70</td>\n",
       "      <td>4.04</td>\n",
       "      <td>18.38</td>\n",
       "      <td>2.82</td>\n",
       "      <td>5.03</td>\n",
       "      <td>3.21</td>\n",
       "      <td>1.08</td>\n",
       "      <td>0.00</td>\n",
       "      <td>3730.58</td>\n",
       "      <td>4.9</td>\n",
       "      <td>2.957880e+12</td>\n",
       "    </tr>\n",
       "  </tbody>\n",
       "</table>\n",
       "</div>"
      ],
      "text/plain": [
       "   Country    Theft    Fraud    Drugs  Burglary  Serious assault  \\\n",
       "0   Sweden  2784.26  2701.06  1158.39    703.48            46.37   \n",
       "1  Denmark  2134.02   925.06   490.85    521.11            32.26   \n",
       "2  Finland  2242.66   853.02   505.80    114.66            30.05   \n",
       "3  Belgium  1428.70   811.55   480.49    392.89           502.93   \n",
       "4   France  1786.35   345.47   426.74    398.23           522.86   \n",
       "\n",
       "   Sexual violence  Robbery  Acts against computer systems  Corruption  \\\n",
       "0           217.72    70.34                         111.43      205.03   \n",
       "1           108.61    22.04                           0.00       81.80   \n",
       "2            90.64    34.19                          35.64       66.86   \n",
       "3            84.37    99.05                          73.64       40.73   \n",
       "4           109.71    82.96                          23.70        4.04   \n",
       "\n",
       "   Sexual exploitation  Money laundering  Attempted intentional homicide  \\\n",
       "0                59.75             90.08                            9.57   \n",
       "1                36.39             20.33                            2.28   \n",
       "2                13.82             10.75                            6.76   \n",
       "3                24.35             47.94                            8.94   \n",
       "4                18.38              2.82                            5.03   \n",
       "\n",
       "   Participation in an organized criminal group  Intentional homicide  \\\n",
       "0                                          0.00                  1.09   \n",
       "1                                          0.00                  0.72   \n",
       "2                                          0.05                  1.70   \n",
       "3                                          4.23                  1.26   \n",
       "4                                          3.21                  1.08   \n",
       "\n",
       "   Kidnapping  Total Crimes  Unemployment Rate           GDP  \n",
       "0        0.00       8158.57                6.5  6.368562e+11  \n",
       "1        0.00       4375.47                3.6  3.983033e+11  \n",
       "2        0.04       4006.64                5.2  2.963876e+11  \n",
       "3        0.00       4001.07                3.8  5.943520e+11  \n",
       "4        0.00       3730.58                4.9  2.957880e+12  "
      ]
     },
     "execution_count": 5,
     "metadata": {},
     "output_type": "execute_result"
    }
   ],
   "source": [
    "df.head()"
   ]
  },
  {
   "cell_type": "code",
   "execution_count": 17,
   "id": "8328e30d",
   "metadata": {},
   "outputs": [
    {
     "name": "stdout",
     "output_type": "stream",
     "text": [
      "             Fraud  Corruption\n",
      "count    26.000000   26.000000\n",
      "mean    408.458462   26.583462\n",
      "std     562.235720   42.592123\n",
      "min       0.000000    0.160000\n",
      "25%      78.455000    5.317500\n",
      "50%     159.690000   11.105000\n",
      "75%     577.372500   28.200000\n",
      "max    2701.060000  205.030000\n"
     ]
    }
   ],
   "source": [
    "# Summary \n",
    "summary_stats = df[['Fraud', 'Corruption']].describe()\n",
    "\n",
    "# Print summary statistics\n",
    "print(summary_stats)"
   ]
  },
  {
   "cell_type": "code",
   "execution_count": 18,
   "id": "a32ec191",
   "metadata": {
    "scrolled": true
   },
   "outputs": [
    {
     "data": {
      "image/png": "[encoded data removed]",
      "text/plain": [
       "<Figure size 640x480 with 2 Axes>"
      ]
     },
     "metadata": {},
     "output_type": "display_data"
    }
   ],
   "source": [
    "# histogram\n",
    "df[['Fraud', 'Corruption']].hist(bins=10)\n",
    "plt.tight_layout()\n",
    "plt.show()\n",
    "\n"
   ]
  },
  {
   "cell_type": "code",
   "execution_count": 12,
   "id": "94b6b184",
   "metadata": {},
   "outputs": [
    {
     "data": {
      "image/png": "[encoded data removed]",
      "text/plain": [
       "<Figure size 640x480 with 1 Axes>"
      ]
     },
     "metadata": {},
     "output_type": "display_data"
    }
   ],
   "source": [
    "#scatterplot\n",
    "df.plot.scatter(x='Fraud', y='Corruption')\n",
    "plt.xlabel('Fraud')\n",
    "plt.ylabel('Corruption')\n",
    "plt.title('Fraud vs Corruption')\n",
    "plt.show()\n"
   ]
  },
  {
   "cell_type": "code",
   "execution_count": 19,
   "id": "c1f8f57a",
   "metadata": {},
   "outputs": [
    {
     "data": {
      "image/png": "[encoded data removed]",
      "text/plain": [
       "<Figure size 1000x800 with 2 Axes>"
      ]
     },
     "metadata": {},
     "output_type": "display_data"
    }
   ],
   "source": [
    "plt.figure(figsize=(10, 8))\n",
    "subset_df = df[['Fraud', 'Corruption']]\n",
    "correlation_matrix = subset_df.corr()\n",
    "sns.heatmap(correlation_matrix, annot=True, cmap=\"coolwarm\", vmin=-1, vmax=1)\n",
    "plt.title(\"Correlation Heatmap\")\n",
    "plt.show()"
   ]
  },
  {
   "cell_type": "code",
   "execution_count": 14,
   "id": "587e809b",
   "metadata": {},
   "outputs": [],
   "source": [
    "#regression model\n",
    "# Define the dependent variable and independent variables\n",
    "y = df['Corruption']\n",
    "X = df[['Fraud']]\n",
    "\n",
    "# Add a constant column to the independent variables\n",
    "X = sm.add_constant(X)\n",
    "\n",
    "# Create the regression model\n",
    "model = sm.OLS(y, X)\n",
    "\n",
    "# Fit the regression model\n",
    "results = model.fit()\n",
    "\n",
    "# Get the regression coefficients, p-values, standard errors, and other relevant statistics\n",
    "coefficients = results.params\n",
    "p_values = results.pvalues\n",
    "standard_errors = results.bse\n",
    "\n",
    "# Assess the goodness-of-fit of the regression model\n",
    "r_squared = results.rsquared\n",
    "adjusted_r_squared = results.rsquared_adj\n",
    "f_statistic = results.fvalue\n"
   ]
  },
  {
   "cell_type": "code",
   "execution_count": 15,
   "id": "895c1553",
   "metadata": {},
   "outputs": [
    {
     "name": "stdout",
     "output_type": "stream",
     "text": [
      "Regression Coefficients:\n",
      "const    0.873560\n",
      "Fraud    0.062944\n",
      "dtype: float64\n",
      "P-values:\n",
      "const    8.836078e-01\n",
      "Fraud    1.481267e-07\n",
      "dtype: float64\n",
      "Standard Errors:\n",
      "const    5.903893\n",
      "Fraud    0.008604\n",
      "dtype: float64\n",
      "R-squared: 0.6903722345141515\n",
      "Adjusted R-squared: 0.6774710776189079\n",
      "F-statistic: 53.51242839071846\n"
     ]
    }
   ],
   "source": [
    "print(\"Regression Coefficients:\")\n",
    "print(coefficients)\n",
    "print(\"P-values:\")\n",
    "print(p_values)\n",
    "print(\"Standard Errors:\")\n",
    "print(standard_errors)\n",
    "print(\"R-squared:\", r_squared)\n",
    "print(\"Adjusted R-squared:\", adjusted_r_squared)\n",
    "print(\"F-statistic:\", f_statistic)\n"
   ]
  },
  {
   "cell_type": "code",
   "execution_count": null,
   "id": "3c7d4f1b",
   "metadata": {},
   "outputs": [],
   "source": [
    "      Regression Coefficients:\n",
    "        The coefficient for the constant term ('const') is approximately 0.873560.\n",
    "        The coefficient for the variable 'Fraud' is approximately 0.062944.\n",
    "\n",
    "    P-values:\n",
    "        The p-value for the constant term ('const') is 0.883608, which is higher than the typical significance level of 0.05. This suggests that the constant term is not statistically significant in the model.\n",
    "        The p-value for the variable 'Fraud' is 1.481267e-07, indicating that it is statistically significant.\n",
    "\n",
    "    Standard Errors:\n",
    "        The standard error for the constant term ('const') is approximately 5.903893.\n",
    "        The standard error for the variable 'Fraud' is approximately 0.008604.\n",
    "\n",
    "    R-squared: The R-squared value is 0.6903722345141515, indicating that approximately 69.04% of the variance in the dependent variable is explained by the independent variable 'Fraud'. This suggests a moderately strong relationship between 'Fraud' and the dependent variable.\n",
    "\n",
    "    Adjusted R-squared: The adjusted R-squared value is 0.6774710776189079. It adjusts the R-squared value based on the number of predictors in the model. In this case, the adjusted R-squared value is slightly lower than the R-squared value, suggesting that the inclusion of 'Fraud' may not contribute much to the explanation of the dependent variable.\n",
    "\n",
    "    F-statistic: The F-statistic is 53.51242839071846, which tests the overall significance of the regression model. In this case, the F-statistic is relatively high, indicating that the model is statistically significant.\n",
    "\n",
    "Based on these results, it appears that the variable 'Fraud' has a statistically significant impact on the dependent variable. The positive coefficient for 'Fraud' (0.062944) suggests that an increase in 'Fraud' is associated with an increase in the dependent variable. The R-squared value of 0.6903722345141515 indicates that the model explains a substantial portion of the variance in the dependent variable."
   ]
  },
  {
   "cell_type": "code",
   "execution_count": null,
   "id": "764aa97e",
   "metadata": {},
   "outputs": [],
   "source": []
  },
  {
   "cell_type": "code",
   "execution_count": null,
   "id": "eebc8043",
   "metadata": {},
   "outputs": [],
   "source": []
  }
 ],
 "metadata": {
  "kernelspec": {
   "display_name": "mid_project_env",
   "language": "python",
   "name": "mid_project_env"
  },
  "language_info": {
   "codemirror_mode": {
    "name": "ipython",
    "version": 3
   },
   "file_extension": ".py",
   "mimetype": "text/x-python",
   "name": "python",
   "nbconvert_exporter": "python",
   "pygments_lexer": "ipython3",
   "version": "3.9.13"
  }
 },
 "nbformat": 4,
 "nbformat_minor": 5
}
